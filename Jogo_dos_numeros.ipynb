{
 "cells": [
  {
   "cell_type": "code",
   "execution_count": 1,
   "id": "a07e43b9",
   "metadata": {},
   "outputs": [
    {
     "name": "stdout",
     "output_type": "stream",
     "text": [
      "Digite o número de jogadores: 3\n",
      "Digite o nome do jogador 1: 11\n",
      "Digite o nome do jogador 2: 22\n",
      "Digite o nome do jogador 3: 33\n",
      "11 chegou a sua vez de jogar, escolha um número INTEIRO entre 0 e 50:1\n",
      "22 chegou a sua vez de jogar, escolha um número INTEIRO entre 0 e 50:2\n",
      "33 chegou a sua vez de jogar, escolha um número INTEIRO entre 0 e 50:3\n",
      "Vamos iniciar a Próxima Rodada!!\n",
      "11 chegou a sua vez de jogar, escolha um número INTEIRO entre 0 e 50:1\n",
      "11 o número que você escolheu já foi jogado, você foi Eliminado. :( \n",
      "22 chegou a sua vez de jogar, escolha um número INTEIRO entre 0 e 50:2\n",
      "22 o número que você escolheu já foi jogado, você foi Eliminado. :( \n",
      "\n",
      "33 Parabéns, VOCÊ GANHOOOOUUUUU!!!\n"
     ]
    }
   ],
   "source": [
    "import math\n",
    "import time\n",
    "from tkinter import END\n",
    "\n",
    "num_jogadores = 0\n",
    "\n",
    "#Print('Olá Gamer...\\nVamos lembrar das regras.\\nGanha quem permanecer por último no Game.\\nJogador deve jogar um número inédito em cada rodada.\\nQuando joga um número que já foi jogado antes, é desclassificado e sai do jogo.\\n')\n",
    "\n",
    "while num_jogadores == 0:\n",
    "    try:\n",
    "        # Solicita o número de jogadores ao usuário e cria uma lista vazia para armazenar seus nomes\n",
    "        num_jogadores = int(input(\"Digite o número de jogadores: \"))      \n",
    "        if num_jogadores < 2:\n",
    "            num_jogadores = 0\n",
    "            print(\"O número de jogadores deve ser maior que 1.\")\n",
    "    except:\n",
    "        print(\"Por favor, digite um número INTEIRO válido.\")\n",
    "\n",
    "range_max = 50\n",
    "jogadores = []\n",
    "\n",
    "# Loop para solicitar os nomes dos jogadores e adicioná-los à lista jogadores\n",
    "for i in range(num_jogadores):\n",
    "    time.sleep(0.4)\n",
    "    jogador = input(f\"Digite o nome do jogador {i+1}: \")\n",
    "    jogadores.append(jogador)\n",
    "# Cria um dicionário com os nomes dos jogadores da lista jogadores e inicializa seus valores em 0\n",
    "\n",
    "dict_jogadores = {idx: jogador for idx, jogador in enumerate(jogadores)}\n",
    "numeros_jogados = [] #cria lista vazia                     #random para a primeira rodada\n",
    "\n",
    "for i in range(range_max): # loop para a quantidade maxima de jogadas\n",
    "    for n in dict_jogadores: #loop para jogador dentro de jogadores onde jogador é a posição do loop\n",
    "        time.sleep(0.6)\n",
    "        numerorodada = int(input(f'{dict_jogadores[n].capitalize()} chegou a sua vez de jogar, escolha um número INTEIRO entre 0 e {range_max}:'))\n",
    "        if numerorodada < 0 or numerorodada > range_max:\n",
    "            time.sleep(0.4)\n",
    "            print(f'Você inseriu o caracter,{numerorodada}, que não é válido')\n",
    "            continue\n",
    "        if numerorodada in numeros_jogados:\n",
    "            time.sleep(0.4)\n",
    "            print(f'{dict_jogadores[n].capitalize()} o número que você escolheu já foi jogado, você foi Eliminado. :( ')\n",
    "            jogadores.remove(dict_jogadores[n])                                                    #Quando elimina dois em seguida está quebrando em alguns casos, por que?\n",
    "            num_jogadores = num_jogadores - 1\n",
    "        if num_jogadores == 1:                                                                               \n",
    "            time.sleep(2)\n",
    "            print(f'\\n{jogadores[0].capitalize()} Parabéns, VOCÊ GANHOOOOUUUUU!!!')\n",
    "            break\n",
    "        numeros_jogados.append(numerorodada)\n",
    "    dict_jogadores = {idx: jogador for idx, jogador in enumerate(jogadores)}\n",
    "    if num_jogadores == 1:\n",
    "        break\n",
    "    time.sleep(1)    \n",
    "    print('Vamos iniciar a Próxima Rodada!!')"
   ]
  }
 ],
 "metadata": {
  "celltoolbar": "Tags",
  "kernelspec": {
   "display_name": "Python 3 (ipykernel)",
   "language": "python",
   "name": "python3"
  },
  "language_info": {
   "codemirror_mode": {
    "name": "ipython",
    "version": 3
   },
   "file_extension": ".py",
   "mimetype": "text/x-python",
   "name": "python",
   "nbconvert_exporter": "python",
   "pygments_lexer": "ipython3",
   "version": "3.9.13"
  },
  "varInspector": {
   "cols": {
    "lenName": 16,
    "lenType": 16,
    "lenVar": 40
   },
   "kernels_config": {
    "python": {
     "delete_cmd_postfix": "",
     "delete_cmd_prefix": "del ",
     "library": "var_list.py",
     "varRefreshCmd": "print(var_dic_list())"
    },
    "r": {
     "delete_cmd_postfix": ") ",
     "delete_cmd_prefix": "rm(",
     "library": "var_list.r",
     "varRefreshCmd": "cat(var_dic_list()) "
    }
   },
   "types_to_exclude": [
    "module",
    "function",
    "builtin_function_or_method",
    "instance",
    "_Feature"
   ],
   "window_display": false
  }
 },
 "nbformat": 4,
 "nbformat_minor": 5
}
