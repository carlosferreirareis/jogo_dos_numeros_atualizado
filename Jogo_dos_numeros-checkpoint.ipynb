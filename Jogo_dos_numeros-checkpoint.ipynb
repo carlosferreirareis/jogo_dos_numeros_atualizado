{
 "cells": [
  {
   "cell_type": "code",
   "execution_count": 48,
   "id": "a0d512c6",
   "metadata": {},
   "outputs": [
    {
     "name": "stdout",
     "output_type": "stream",
     "text": [
      "{5: {}}\n"
     ]
    }
   ],
   "source": []
  },
  {
   "cell_type": "code",
   "execution_count": 200,
   "id": "0326ccaa",
   "metadata": {},
   "outputs": [
    {
     "name": "stdout",
     "output_type": "stream",
     "text": [
      "Bem vindo de volta, quantas pessoas teremos nesta partida? \n",
      "Máximo 5 jogadores ok. 5\n",
      "5\n",
      "Qual número máximo vocês querem jogar? 20\n",
      "Vocês escolheram jogar com números até 20. Boa Sorte!!!\n",
      "\n",
      "Vamos às regras:\n",
      "Só podem jogar números que estão entre 0 e 20. \n",
      "Ganha o Jogo quem permanecer por último sem errar. :) \n",
      "Quem digitar um número que já foi digitado antes, perde e sai do jogo. :( \n",
      "\n",
      "Informe o nome do jogador(a) 1: carlos\n",
      "Informe o nome do jogador(a) 2: lucas\n",
      "Informe o nome do jogador(a) 3: edson\n",
      "Informe o nome do jogador(a) 4: ro\n",
      "Informe o nome do jogador(a) 5: claudia\n",
      "carlos chegou a sua vez de jogar, escolha um número entre 0 e 20:1\n",
      "lucas chegou a sua vez de jogar, escolha um número entre 0 e 20:2\n",
      "edson chegou a sua vez de jogar, escolha um número entre 0 e 20:3\n",
      "ro chegou a sua vez de jogar, escolha um número entre 0 e 20:4\n",
      "claudia chegou a sua vez de jogar, escolha um número entre 0 e 20:5\n",
      "carlos chegou a sua vez de jogar, escolha um número entre 0 e 20:6\n",
      "lucas chegou a sua vez de jogar, escolha um número entre 0 e 20:7\n",
      "edson chegou a sua vez de jogar, escolha um número entre 0 e 20:8\n",
      "ro chegou a sua vez de jogar, escolha um número entre 0 e 20:9\n",
      "claudia chegou a sua vez de jogar, escolha um número entre 0 e 20:10\n",
      "carlos chegou a sua vez de jogar, escolha um número entre 0 e 20:11\n",
      "lucas chegou a sua vez de jogar, escolha um número entre 0 e 20:10\n",
      "lucas você infelizmente inseriu um número que já foi jogado e perdeu. :( \n",
      "edson chegou a sua vez de jogar, escolha um número entre 0 e 20:5\n",
      "edson você infelizmente inseriu um número que já foi jogado e perdeu. :( \n",
      "ro chegou a sua vez de jogar, escolha um número entre 0 e 20:6\n",
      "ro você infelizmente inseriu um número que já foi jogado e perdeu. :( \n",
      "claudia chegou a sua vez de jogar, escolha um número entre 0 e 20:4\n",
      "claudia você infelizmente inseriu um número que já foi jogado e perdeu. :( \n",
      "dict_values(['carlos']) Parabéns, Você é um SUCESSO!!!\n",
      "carlos chegou a sua vez de jogar, escolha um número entre 0 e 20:8\n",
      "carlos você infelizmente inseriu um número que já foi jogado e perdeu. :( \n"
     ]
    },
    {
     "ename": "KeyError",
     "evalue": "2",
     "output_type": "error",
     "traceback": [
      "\u001b[1;31m---------------------------------------------------------------------------\u001b[0m",
      "\u001b[1;31mKeyError\u001b[0m                                  Traceback (most recent call last)",
      "Cell \u001b[1;32mIn[200], line 16\u001b[0m\n\u001b[0;32m     14\u001b[0m \u001b[38;5;28;01mfor\u001b[39;00m n \u001b[38;5;129;01min\u001b[39;00m \u001b[38;5;28mrange\u001b[39m(maximo \u001b[38;5;241m*\u001b[39m \u001b[38;5;241m3\u001b[39m): \u001b[38;5;66;03m# loop para 3 vezes a range do valor maximo para a jogada\u001b[39;00m\n\u001b[0;32m     15\u001b[0m     \u001b[38;5;28;01mfor\u001b[39;00m i \u001b[38;5;129;01min\u001b[39;00m \u001b[38;5;28mrange\u001b[39m(qtd_jogadores): \u001b[38;5;66;03m#loop para a quantidade de jogadores onde i é a posição do loop\u001b[39;00m\n\u001b[1;32m---> 16\u001b[0m         num_usado \u001b[38;5;241m=\u001b[39m \u001b[38;5;28mint\u001b[39m(\u001b[38;5;28minput\u001b[39m(\u001b[38;5;124mf\u001b[39m\u001b[38;5;124m'\u001b[39m\u001b[38;5;132;01m{\u001b[39;00mdict_jogadores[i\u001b[38;5;241m+\u001b[39m\u001b[38;5;241m1\u001b[39m]\u001b[38;5;132;01m}\u001b[39;00m\u001b[38;5;124m chegou a sua vez de jogar, escolha um número entre 0 e \u001b[39m\u001b[38;5;132;01m{\u001b[39;00mmaximo\u001b[38;5;132;01m}\u001b[39;00m\u001b[38;5;124m:\u001b[39m\u001b[38;5;124m'\u001b[39m))\n\u001b[0;32m     17\u001b[0m         \u001b[38;5;28;01mif\u001b[39;00m num_usado \u001b[38;5;129;01min\u001b[39;00m numeros_jogados:\n\u001b[0;32m     18\u001b[0m             \u001b[38;5;28mprint\u001b[39m(\u001b[38;5;124mf\u001b[39m\u001b[38;5;124m'\u001b[39m\u001b[38;5;132;01m{\u001b[39;00mdict_jogadores[i\u001b[38;5;241m+\u001b[39m\u001b[38;5;241m1\u001b[39m]\u001b[38;5;132;01m}\u001b[39;00m\u001b[38;5;124m você infelizmente inseriu um número que já foi jogado e perdeu. :( \u001b[39m\u001b[38;5;124m'\u001b[39m)\n",
      "\u001b[1;31mKeyError\u001b[0m: 2"
     ]
    }
   ],
   "source": [
    "qtd_jogadores = int(input('Bem vindo de volta, quantas pessoas teremos nesta partida? \\nMáximo 5 jogadores ok. '))\n",
    "print(qtd_jogadores) #Imprime a quantidade inicial de jgadores\n",
    "maximo = int(input('Qual número máximo vocês querem jogar? ')) #Gera lista da range de entrada de dados do jogo\n",
    "print(f'Vocês escolheram jogar com números até {maximo}. Boa Sorte!!!\\n')\n",
    "print(f'Vamos às regras:\\nSó podem jogar números que estão entre 0 e {maximo}. \\nGanha o Jogo quem permanecer por último sem errar. :) \\nQuem digitar um número que já foi digitado antes, perde e sai do jogo. :( \\n')\n",
    "\n",
    "dict_jogadores = {} #cria dicionario vazio\n",
    "for i in range(qtd_jogadores): #inicia loop baseado na range de quantidade de jogadores\n",
    "    nome = input(f'Informe o nome do jogador(a) {i+1}: ') #solicita o nome dos jogadores um a um\n",
    "    dict_jogadores[i+1] = nome #atribui o nome do jogador nome a uma chave i no dicionário dict_jogadores.\n",
    "\n",
    "numeros_jogados = [] #cria lista vazia\n",
    "conta_exclu = []\n",
    "for n in range(maximo * 3): # loop para 3 vezes a range do valor maximo para a jogada\n",
    "    for i in range(qtd_jogadores): #loop para a quantidade de jogadores onde i é a posição do loop\n",
    "        num_usado = int(input(f'{dict_jogadores[i+1]} chegou a sua vez de jogar, escolha um número entre 0 e {maximo}:'))\n",
    "        if num_usado in numeros_jogados:\n",
    "            print(f'{dict_jogadores[i+1]} você infelizmente inseriu um número que já foi jogado e perdeu. :( ')\n",
    "            dict_jogadores.pop(i+1)\n",
    "            conta_exclu.append(1)\n",
    "            if qtd_jogadores == len(conta_exclu)+1:\n",
    "            #if sum(cont_exclu) == (maximo4:\n",
    "                print(f'{dict_jogadores.values()} Parabéns, Você é um SUCESSO!!!')\n",
    "                break\n",
    "        else:\n",
    "            numeros_jogados.append(num_usado)\n",
    "            "
   ]
  },
  {
   "cell_type": "code",
   "execution_count": 197,
   "id": "923cc92d",
   "metadata": {},
   "outputs": [
    {
     "name": "stdout",
     "output_type": "stream",
     "text": [
      "[1, 2, 3, 4, 5, 6]\n",
      "1\n",
      "{1: 'carlos'}\n",
      "[]\n",
      "5\n"
     ]
    }
   ],
   "source": [
    "print(numeros_jogados)\n",
    "print(num_usado)\n",
    "print(dict_jogadores)\n",
    "print(cont_exclu)\n",
    "print(qtd_jogadores)"
   ]
  },
  {
   "cell_type": "code",
   "execution_count": null,
   "id": "203324bb",
   "metadata": {},
   "outputs": [],
   "source": [
    "nomes_jogadores = input('Informe o nome do(a) primeiro(a) jogador(a):')"
   ]
  }
 ],
 "metadata": {
  "kernelspec": {
   "display_name": "Python 3 (ipykernel)",
   "language": "python",
   "name": "python3"
  },
  "language_info": {
   "codemirror_mode": {
    "name": "ipython",
    "version": 3
   },
   "file_extension": ".py",
   "mimetype": "text/x-python",
   "name": "python",
   "nbconvert_exporter": "python",
   "pygments_lexer": "ipython3",
   "version": "3.9.13"
  }
 },
 "nbformat": 4,
 "nbformat_minor": 5
}
